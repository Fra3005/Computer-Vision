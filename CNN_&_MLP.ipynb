{
  "nbformat": 4,
  "nbformat_minor": 0,
  "metadata": {
    "colab": {
      "name": "CNN & MLP.ipynb",
      "provenance": [],
      "collapsed_sections": [],
      "authorship_tag": "ABX9TyMI9Fae4JGkYfld5ohLujt2",
      "include_colab_link": true
    },
    "kernelspec": {
      "name": "python3",
      "display_name": "Python 3"
    },
    "language_info": {
      "name": "python"
    }
  },
  "cells": [
    {
      "cell_type": "markdown",
      "metadata": {
        "id": "view-in-github",
        "colab_type": "text"
      },
      "source": [
        "<a href=\"https://colab.research.google.com/github/Fra3005/Computer-Vision/blob/main/CNN_%26_MLP.ipynb\" target=\"_parent\"><img src=\"https://colab.research.google.com/assets/colab-badge.svg\" alt=\"Open In Colab\"/></a>"
      ]
    },
    {
      "cell_type": "code",
      "source": [
        "!pip install tensorflow"
      ],
      "metadata": {
        "colab": {
          "base_uri": "https://localhost:8080/"
        },
        "id": "MHx7sgXaoRty",
        "outputId": "4cbfbf68-7166-4f6e-bfd3-ff7a6dab1fa9"
      },
      "execution_count": null,
      "outputs": [
        {
          "output_type": "stream",
          "name": "stdout",
          "text": [
            "Requirement already satisfied: tensorflow in /usr/local/lib/python3.7/dist-packages (2.8.0)\n",
            "Requirement already satisfied: typing-extensions>=3.6.6 in /usr/local/lib/python3.7/dist-packages (from tensorflow) (4.2.0)\n",
            "Requirement already satisfied: opt-einsum>=2.3.2 in /usr/local/lib/python3.7/dist-packages (from tensorflow) (3.3.0)\n",
            "Requirement already satisfied: keras-preprocessing>=1.1.1 in /usr/local/lib/python3.7/dist-packages (from tensorflow) (1.1.2)\n",
            "Requirement already satisfied: astunparse>=1.6.0 in /usr/local/lib/python3.7/dist-packages (from tensorflow) (1.6.3)\n",
            "Requirement already satisfied: six>=1.12.0 in /usr/local/lib/python3.7/dist-packages (from tensorflow) (1.15.0)\n",
            "Requirement already satisfied: libclang>=9.0.1 in /usr/local/lib/python3.7/dist-packages (from tensorflow) (14.0.1)\n",
            "Collecting tf-estimator-nightly==2.8.0.dev2021122109\n",
            "  Downloading tf_estimator_nightly-2.8.0.dev2021122109-py2.py3-none-any.whl (462 kB)\n",
            "\u001b[K     |████████████████████████████████| 462 kB 5.0 MB/s \n",
            "\u001b[?25hRequirement already satisfied: tensorboard<2.9,>=2.8 in /usr/local/lib/python3.7/dist-packages (from tensorflow) (2.8.0)\n",
            "Requirement already satisfied: gast>=0.2.1 in /usr/local/lib/python3.7/dist-packages (from tensorflow) (0.5.3)\n",
            "Requirement already satisfied: google-pasta>=0.1.1 in /usr/local/lib/python3.7/dist-packages (from tensorflow) (0.2.0)\n",
            "Requirement already satisfied: flatbuffers>=1.12 in /usr/local/lib/python3.7/dist-packages (from tensorflow) (2.0)\n",
            "Requirement already satisfied: numpy>=1.20 in /usr/local/lib/python3.7/dist-packages (from tensorflow) (1.21.6)\n",
            "Requirement already satisfied: tensorflow-io-gcs-filesystem>=0.23.1 in /usr/local/lib/python3.7/dist-packages (from tensorflow) (0.25.0)\n",
            "Requirement already satisfied: termcolor>=1.1.0 in /usr/local/lib/python3.7/dist-packages (from tensorflow) (1.1.0)\n",
            "Requirement already satisfied: wrapt>=1.11.0 in /usr/local/lib/python3.7/dist-packages (from tensorflow) (1.14.0)\n",
            "Requirement already satisfied: absl-py>=0.4.0 in /usr/local/lib/python3.7/dist-packages (from tensorflow) (1.0.0)\n",
            "Requirement already satisfied: keras<2.9,>=2.8.0rc0 in /usr/local/lib/python3.7/dist-packages (from tensorflow) (2.8.0)\n",
            "Requirement already satisfied: protobuf>=3.9.2 in /usr/local/lib/python3.7/dist-packages (from tensorflow) (3.17.3)\n",
            "Requirement already satisfied: grpcio<2.0,>=1.24.3 in /usr/local/lib/python3.7/dist-packages (from tensorflow) (1.44.0)\n",
            "Requirement already satisfied: setuptools in /usr/local/lib/python3.7/dist-packages (from tensorflow) (57.4.0)\n",
            "Requirement already satisfied: h5py>=2.9.0 in /usr/local/lib/python3.7/dist-packages (from tensorflow) (3.1.0)\n",
            "Requirement already satisfied: wheel<1.0,>=0.23.0 in /usr/local/lib/python3.7/dist-packages (from astunparse>=1.6.0->tensorflow) (0.37.1)\n",
            "Requirement already satisfied: cached-property in /usr/local/lib/python3.7/dist-packages (from h5py>=2.9.0->tensorflow) (1.5.2)\n",
            "Requirement already satisfied: tensorboard-data-server<0.7.0,>=0.6.0 in /usr/local/lib/python3.7/dist-packages (from tensorboard<2.9,>=2.8->tensorflow) (0.6.1)\n",
            "Requirement already satisfied: markdown>=2.6.8 in /usr/local/lib/python3.7/dist-packages (from tensorboard<2.9,>=2.8->tensorflow) (3.3.6)\n",
            "Requirement already satisfied: tensorboard-plugin-wit>=1.6.0 in /usr/local/lib/python3.7/dist-packages (from tensorboard<2.9,>=2.8->tensorflow) (1.8.1)\n",
            "Requirement already satisfied: requests<3,>=2.21.0 in /usr/local/lib/python3.7/dist-packages (from tensorboard<2.9,>=2.8->tensorflow) (2.23.0)\n",
            "Requirement already satisfied: google-auth-oauthlib<0.5,>=0.4.1 in /usr/local/lib/python3.7/dist-packages (from tensorboard<2.9,>=2.8->tensorflow) (0.4.6)\n",
            "Requirement already satisfied: werkzeug>=0.11.15 in /usr/local/lib/python3.7/dist-packages (from tensorboard<2.9,>=2.8->tensorflow) (1.0.1)\n",
            "Requirement already satisfied: google-auth<3,>=1.6.3 in /usr/local/lib/python3.7/dist-packages (from tensorboard<2.9,>=2.8->tensorflow) (1.35.0)\n",
            "Requirement already satisfied: rsa<5,>=3.1.4 in /usr/local/lib/python3.7/dist-packages (from google-auth<3,>=1.6.3->tensorboard<2.9,>=2.8->tensorflow) (4.8)\n",
            "Requirement already satisfied: cachetools<5.0,>=2.0.0 in /usr/local/lib/python3.7/dist-packages (from google-auth<3,>=1.6.3->tensorboard<2.9,>=2.8->tensorflow) (4.2.4)\n",
            "Requirement already satisfied: pyasn1-modules>=0.2.1 in /usr/local/lib/python3.7/dist-packages (from google-auth<3,>=1.6.3->tensorboard<2.9,>=2.8->tensorflow) (0.2.8)\n",
            "Requirement already satisfied: requests-oauthlib>=0.7.0 in /usr/local/lib/python3.7/dist-packages (from google-auth-oauthlib<0.5,>=0.4.1->tensorboard<2.9,>=2.8->tensorflow) (1.3.1)\n",
            "Requirement already satisfied: importlib-metadata>=4.4 in /usr/local/lib/python3.7/dist-packages (from markdown>=2.6.8->tensorboard<2.9,>=2.8->tensorflow) (4.11.3)\n",
            "Requirement already satisfied: zipp>=0.5 in /usr/local/lib/python3.7/dist-packages (from importlib-metadata>=4.4->markdown>=2.6.8->tensorboard<2.9,>=2.8->tensorflow) (3.8.0)\n",
            "Requirement already satisfied: pyasn1<0.5.0,>=0.4.6 in /usr/local/lib/python3.7/dist-packages (from pyasn1-modules>=0.2.1->google-auth<3,>=1.6.3->tensorboard<2.9,>=2.8->tensorflow) (0.4.8)\n",
            "Requirement already satisfied: certifi>=2017.4.17 in /usr/local/lib/python3.7/dist-packages (from requests<3,>=2.21.0->tensorboard<2.9,>=2.8->tensorflow) (2021.10.8)\n",
            "Requirement already satisfied: urllib3!=1.25.0,!=1.25.1,<1.26,>=1.21.1 in /usr/local/lib/python3.7/dist-packages (from requests<3,>=2.21.0->tensorboard<2.9,>=2.8->tensorflow) (1.24.3)\n",
            "Requirement already satisfied: chardet<4,>=3.0.2 in /usr/local/lib/python3.7/dist-packages (from requests<3,>=2.21.0->tensorboard<2.9,>=2.8->tensorflow) (3.0.4)\n",
            "Requirement already satisfied: idna<3,>=2.5 in /usr/local/lib/python3.7/dist-packages (from requests<3,>=2.21.0->tensorboard<2.9,>=2.8->tensorflow) (2.10)\n",
            "Requirement already satisfied: oauthlib>=3.0.0 in /usr/local/lib/python3.7/dist-packages (from requests-oauthlib>=0.7.0->google-auth-oauthlib<0.5,>=0.4.1->tensorboard<2.9,>=2.8->tensorflow) (3.2.0)\n",
            "Installing collected packages: tf-estimator-nightly\n",
            "Successfully installed tf-estimator-nightly-2.8.0.dev2021122109\n"
          ]
        }
      ]
    },
    {
      "cell_type": "code",
      "execution_count": 3,
      "metadata": {
        "id": "BWxJA-TBn4VU"
      },
      "outputs": [],
      "source": [
        "from tensorflow.keras import datasets, layers, models\n"
      ]
    },
    {
      "cell_type": "markdown",
      "source": [
        "#Split dataset into train and test"
      ],
      "metadata": {
        "id": "lxajRkP9Q8zm"
      }
    },
    {
      "cell_type": "code",
      "source": [
        "(train_images, train_labels), (test_images, test_labels) = datasets.cifar10.load_data()\n"
      ],
      "metadata": {
        "id": "yZ5NTwGqoRC3"
      },
      "execution_count": 111,
      "outputs": []
    },
    {
      "cell_type": "code",
      "source": [
        "print(train_images.shape)\n",
        "print(test_images.shape)\n",
        "\n",
        "train_images = train_images / 255.0\n",
        "test_images = test_images / 255.0"
      ],
      "metadata": {
        "colab": {
          "base_uri": "https://localhost:8080/"
        },
        "id": "fXMrZhaQuirN",
        "outputId": "68b22ad5-4cf6-4dba-defd-d2b0cf127326"
      },
      "execution_count": 112,
      "outputs": [
        {
          "output_type": "stream",
          "name": "stdout",
          "text": [
            "(50000, 32, 32, 3)\n",
            "(10000, 32, 32, 3)\n"
          ]
        }
      ]
    },
    {
      "cell_type": "markdown",
      "source": [
        "#Create model for CNN"
      ],
      "metadata": {
        "id": "cc4cEx7XRA3v"
      }
    },
    {
      "cell_type": "code",
      "source": [
        "model = models.Sequential()\n",
        "model.add(layers.Conv2D(filters=16, kernel_size=2, padding='same', activation='relu', \n",
        "                        input_shape=(32, 32, 3)))\n",
        "model.add(layers.MaxPooling2D(pool_size=2))\n",
        "model.add(layers.Conv2D(filters=32, kernel_size=2, padding='same', activation='relu'))\n",
        "model.add(layers.MaxPooling2D(pool_size=2))\n",
        "model.add(layers.Conv2D(filters=64, kernel_size=2, padding='same', activation='relu'))\n",
        "model.add(layers.MaxPooling2D(pool_size=2))\n",
        "model.add(layers.Dropout(0.3))\n",
        "model.add(layers.Flatten())\n",
        "model.add(layers.Dense(500, activation='relu'))\n",
        "model.add(layers.Dropout(0.4))\n",
        "model.add(layers.Dense(10, activation='softmax'))\n",
        "\n",
        "model.summary() #displays the network architecture"
      ],
      "metadata": {
        "colab": {
          "base_uri": "https://localhost:8080/"
        },
        "id": "tIDaRvgYuWL6",
        "outputId": "2fbf310b-1d4a-491e-a96a-67500bc97e3a"
      },
      "execution_count": 6,
      "outputs": [
        {
          "output_type": "stream",
          "name": "stdout",
          "text": [
            "Model: \"sequential\"\n",
            "_________________________________________________________________\n",
            " Layer (type)                Output Shape              Param #   \n",
            "=================================================================\n",
            " conv2d (Conv2D)             (None, 32, 32, 16)        208       \n",
            "                                                                 \n",
            " max_pooling2d (MaxPooling2D  (None, 16, 16, 16)       0         \n",
            " )                                                               \n",
            "                                                                 \n",
            " conv2d_1 (Conv2D)           (None, 16, 16, 32)        2080      \n",
            "                                                                 \n",
            " max_pooling2d_1 (MaxPooling  (None, 8, 8, 32)         0         \n",
            " 2D)                                                             \n",
            "                                                                 \n",
            " conv2d_2 (Conv2D)           (None, 8, 8, 64)          8256      \n",
            "                                                                 \n",
            " max_pooling2d_2 (MaxPooling  (None, 4, 4, 64)         0         \n",
            " 2D)                                                             \n",
            "                                                                 \n",
            " dropout (Dropout)           (None, 4, 4, 64)          0         \n",
            "                                                                 \n",
            " flatten (Flatten)           (None, 1024)              0         \n",
            "                                                                 \n",
            " dense (Dense)               (None, 500)               512500    \n",
            "                                                                 \n",
            " dropout_1 (Dropout)         (None, 500)               0         \n",
            "                                                                 \n",
            " dense_1 (Dense)             (None, 10)                5010      \n",
            "                                                                 \n",
            "=================================================================\n",
            "Total params: 528,054\n",
            "Trainable params: 528,054\n",
            "Non-trainable params: 0\n",
            "_________________________________________________________________\n"
          ]
        }
      ]
    },
    {
      "cell_type": "markdown",
      "source": [
        "#Fit CNN model whit a EarlyStopping Callback"
      ],
      "metadata": {
        "id": "zO7MS9XFRGE0"
      }
    },
    {
      "cell_type": "code",
      "source": [
        "from keras.callbacks import EarlyStopping\n",
        "\n",
        "early_stopping = EarlyStopping(monitor='loss', patience=2)\n",
        "\n",
        "\n",
        "model.compile(optimizer='nadam',\n",
        "              loss='sparse_categorical_crossentropy',\n",
        "              metrics=['accuracy'])\n",
        "\n",
        "model.fit(train_images, train_labels, epochs=10, callbacks=[early_stopping])"
      ],
      "metadata": {
        "colab": {
          "base_uri": "https://localhost:8080/"
        },
        "id": "sx_Hs_hwu8NB",
        "outputId": "1c926a1c-8563-4a9d-aef6-ca9dec781bc8"
      },
      "execution_count": 7,
      "outputs": [
        {
          "output_type": "stream",
          "name": "stdout",
          "text": [
            "Epoch 1/10\n",
            "1563/1563 [==============================] - 63s 39ms/step - loss: 1.5123 - accuracy: 0.4531\n",
            "Epoch 2/10\n",
            "1563/1563 [==============================] - 61s 39ms/step - loss: 1.1805 - accuracy: 0.5776\n",
            "Epoch 3/10\n",
            "1563/1563 [==============================] - 62s 39ms/step - loss: 1.0517 - accuracy: 0.6268\n",
            "Epoch 4/10\n",
            "1563/1563 [==============================] - 62s 40ms/step - loss: 0.9773 - accuracy: 0.6544\n",
            "Epoch 5/10\n",
            "1563/1563 [==============================] - 62s 39ms/step - loss: 0.9111 - accuracy: 0.6774\n",
            "Epoch 6/10\n",
            "1563/1563 [==============================] - 62s 40ms/step - loss: 0.8666 - accuracy: 0.6962\n",
            "Epoch 7/10\n",
            "1563/1563 [==============================] - 63s 40ms/step - loss: 0.8261 - accuracy: 0.7108\n",
            "Epoch 8/10\n",
            "1563/1563 [==============================] - 62s 40ms/step - loss: 0.7964 - accuracy: 0.7180\n",
            "Epoch 9/10\n",
            "1563/1563 [==============================] - 67s 43ms/step - loss: 0.7631 - accuracy: 0.7287\n",
            "Epoch 10/10\n",
            "1563/1563 [==============================] - 65s 42ms/step - loss: 0.7342 - accuracy: 0.7402\n"
          ]
        },
        {
          "output_type": "execute_result",
          "data": {
            "text/plain": [
              "<keras.callbacks.History at 0x7f1d76a389d0>"
            ]
          },
          "metadata": {},
          "execution_count": 7
        }
      ]
    },
    {
      "cell_type": "markdown",
      "source": [
        "#Get the accuracy of the model"
      ],
      "metadata": {
        "id": "L_dzMpOfRNpA"
      }
    },
    {
      "cell_type": "code",
      "source": [
        "test_loss, test_acc = model.evaluate(test_images, test_labels)\n",
        "print('Test accuracy=',test_acc)"
      ],
      "metadata": {
        "colab": {
          "base_uri": "https://localhost:8080/"
        },
        "id": "bYD4m60Vy76N",
        "outputId": "835591ff-98fc-4aaa-aae9-1b390aeb9fe5"
      },
      "execution_count": 8,
      "outputs": [
        {
          "output_type": "stream",
          "name": "stdout",
          "text": [
            "313/313 [==============================] - 4s 13ms/step - loss: 0.7695 - accuracy: 0.7331\n",
            "Test accuracy= 0.7330999970436096\n"
          ]
        }
      ]
    },
    {
      "cell_type": "code",
      "source": [
        "# get predictions on the test set\n",
        "y_hat = model.predict(test_images)"
      ],
      "metadata": {
        "id": "-l_eHEu49c7g"
      },
      "execution_count": 68,
      "outputs": []
    },
    {
      "cell_type": "markdown",
      "source": [
        "#Apply Hog filter to Training and Test sets"
      ],
      "metadata": {
        "id": "kW25o_JIRR3I"
      }
    },
    {
      "cell_type": "code",
      "source": [
        "from skimage.feature import hog\n",
        "from cv2 import cv2 as cv2\n",
        "import numpy as np\n",
        "import matplotlib.pyplot as plt\n",
        "from sklearn.metrics.pairwise import cosine_similarity, cosine_distances\n",
        "from skimage.color import rgb2gray\n",
        "\n",
        "\n",
        "train_im_gray = [rgb2gray(instance) for instance in train_images]\n",
        "test_im_gray = [rgb2gray(instance) for instance in test_images]\n",
        "\n",
        "train_im = [hog(img, cells_per_block=(2, 2)) for img in train_im_gray]\n",
        "test_im = [hog(img, cells_per_block=(2, 2)) for img in test_im_gray]\n",
        "\n"
      ],
      "metadata": {
        "id": "mTewZ5Kay_68"
      },
      "execution_count": 113,
      "outputs": []
    },
    {
      "cell_type": "code",
      "source": [
        "train_im = np.array(train_im)\n",
        "test_im = np.array(test_im)"
      ],
      "metadata": {
        "id": "76Hdt4fmpJtO"
      },
      "execution_count": 114,
      "outputs": []
    },
    {
      "cell_type": "markdown",
      "source": [
        "#Apply a Standardization to the set"
      ],
      "metadata": {
        "id": "LlBmOYxGRYf-"
      }
    },
    {
      "cell_type": "code",
      "source": [
        "from sklearn.preprocessing import StandardScaler  \n",
        "from sklearn.neural_network import MLPClassifier \n",
        "scaler = StandardScaler()  \n",
        "scaler.fit(train_im)\n",
        "X_train = scaler.transform(train_im)  \n",
        "X_test = scaler.transform(test_im) \n"
      ],
      "metadata": {
        "id": "2Z_XPaZz2C8O"
      },
      "execution_count": 115,
      "outputs": []
    },
    {
      "cell_type": "code",
      "source": [
        "from tensorflow.keras.utils import to_categorical\n",
        "\n",
        "\n",
        "train_labels = train_labels.flatten() \n",
        "test_label = test_labels.flatten()\n"
      ],
      "metadata": {
        "id": "uQInLviYem2C"
      },
      "execution_count": 116,
      "outputs": []
    },
    {
      "cell_type": "code",
      "source": [
        "clf = MLPClassifier(\n",
        "                    hidden_layer_sizes=(5, 2),\n",
        "                    random_state=1,\n",
        "                    verbose=True,\n",
        "                    learning_rate_init=0.02)"
      ],
      "metadata": {
        "id": "oOt81cFufOkc"
      },
      "execution_count": 117,
      "outputs": []
    },
    {
      "cell_type": "code",
      "source": [
        "clf.fit(X_train, train_labels)  "
      ],
      "metadata": {
        "colab": {
          "base_uri": "https://localhost:8080/"
        },
        "id": "mrmggkYBtmIW",
        "outputId": "08b9ce86-69a9-40ff-9725-525afec005d7"
      },
      "execution_count": 118,
      "outputs": [
        {
          "output_type": "stream",
          "name": "stdout",
          "text": [
            "Iteration 1, loss = 1.92482030\n",
            "Iteration 2, loss = 1.74765556\n",
            "Iteration 3, loss = 1.72699343\n",
            "Iteration 4, loss = 1.71648775\n",
            "Iteration 5, loss = 1.70745275\n",
            "Iteration 6, loss = 1.70481660\n",
            "Iteration 7, loss = 1.70038234\n",
            "Iteration 8, loss = 1.69592765\n",
            "Iteration 9, loss = 1.69500564\n",
            "Iteration 10, loss = 1.69362580\n",
            "Iteration 11, loss = 1.68922003\n",
            "Iteration 12, loss = 1.69206943\n",
            "Iteration 13, loss = 1.68787386\n",
            "Iteration 14, loss = 1.68736150\n",
            "Iteration 15, loss = 1.68411526\n",
            "Iteration 16, loss = 1.68702400\n",
            "Iteration 17, loss = 1.67979112\n",
            "Iteration 18, loss = 1.68003336\n",
            "Iteration 19, loss = 1.67672690\n",
            "Iteration 20, loss = 1.67842490\n",
            "Iteration 21, loss = 1.67744601\n",
            "Iteration 22, loss = 1.67431566\n",
            "Iteration 23, loss = 1.67818904\n",
            "Iteration 24, loss = 1.67632249\n",
            "Iteration 25, loss = 1.67223746\n",
            "Iteration 26, loss = 1.67556354\n",
            "Iteration 27, loss = 1.67465350\n",
            "Iteration 28, loss = 1.67521324\n",
            "Iteration 29, loss = 1.67342478\n",
            "Iteration 30, loss = 1.67000999\n",
            "Iteration 31, loss = 1.67184969\n",
            "Iteration 32, loss = 1.66952598\n",
            "Iteration 33, loss = 1.66926420\n",
            "Iteration 34, loss = 1.67041840\n",
            "Iteration 35, loss = 1.66364899\n",
            "Iteration 36, loss = 1.66936180\n",
            "Iteration 37, loss = 1.66598682\n",
            "Iteration 38, loss = 1.66735082\n",
            "Iteration 39, loss = 1.66205343\n",
            "Iteration 40, loss = 1.66222135\n",
            "Iteration 41, loss = 1.66817963\n",
            "Iteration 42, loss = 1.66064243\n",
            "Iteration 43, loss = 1.66288136\n",
            "Iteration 44, loss = 1.66263482\n",
            "Iteration 45, loss = 1.66255481\n",
            "Iteration 46, loss = 1.66049095\n",
            "Iteration 47, loss = 1.65993092\n",
            "Iteration 48, loss = 1.66030290\n",
            "Iteration 49, loss = 1.66128797\n",
            "Iteration 50, loss = 1.65946292\n",
            "Iteration 51, loss = 1.66144357\n",
            "Iteration 52, loss = 1.65749523\n",
            "Iteration 53, loss = 1.66069619\n",
            "Iteration 54, loss = 1.66201177\n",
            "Iteration 55, loss = 1.65818061\n",
            "Iteration 56, loss = 1.66023282\n",
            "Iteration 57, loss = 1.65968710\n",
            "Iteration 58, loss = 1.65932988\n",
            "Iteration 59, loss = 1.65975910\n",
            "Iteration 60, loss = 1.66033570\n",
            "Iteration 61, loss = 1.65884772\n",
            "Iteration 62, loss = 1.65711232\n",
            "Iteration 63, loss = 1.65588820\n",
            "Iteration 64, loss = 1.65550372\n",
            "Iteration 65, loss = 1.65600409\n",
            "Iteration 66, loss = 1.65669397\n",
            "Iteration 67, loss = 1.65537220\n",
            "Iteration 68, loss = 1.65927510\n",
            "Iteration 69, loss = 1.65718584\n",
            "Iteration 70, loss = 1.65481471\n",
            "Iteration 71, loss = 1.65807307\n",
            "Iteration 72, loss = 1.65728589\n",
            "Iteration 73, loss = 1.65416597\n",
            "Iteration 74, loss = 1.65305370\n",
            "Iteration 75, loss = 1.65420805\n",
            "Iteration 76, loss = 1.65575781\n",
            "Iteration 77, loss = 1.65620487\n",
            "Iteration 78, loss = 1.65433671\n",
            "Iteration 79, loss = 1.65373669\n",
            "Iteration 80, loss = 1.65625550\n",
            "Iteration 81, loss = 1.65403576\n",
            "Iteration 82, loss = 1.65280431\n",
            "Iteration 83, loss = 1.65397032\n",
            "Iteration 84, loss = 1.65868918\n",
            "Iteration 85, loss = 1.65574325\n",
            "Iteration 86, loss = 1.65394865\n",
            "Iteration 87, loss = 1.65188155\n",
            "Iteration 88, loss = 1.65438068\n",
            "Iteration 89, loss = 1.65501277\n",
            "Iteration 90, loss = 1.65262978\n",
            "Iteration 91, loss = 1.65194457\n",
            "Iteration 92, loss = 1.65344519\n",
            "Iteration 93, loss = 1.65287222\n",
            "Iteration 94, loss = 1.65399525\n",
            "Iteration 95, loss = 1.64990378\n",
            "Iteration 96, loss = 1.65290320\n",
            "Iteration 97, loss = 1.65484026\n",
            "Iteration 98, loss = 1.65172587\n",
            "Iteration 99, loss = 1.65269195\n",
            "Iteration 100, loss = 1.65446921\n",
            "Iteration 101, loss = 1.65214545\n",
            "Iteration 102, loss = 1.65028827\n",
            "Iteration 103, loss = 1.65109738\n",
            "Iteration 104, loss = 1.65438009\n",
            "Iteration 105, loss = 1.65154761\n",
            "Iteration 106, loss = 1.64964767\n",
            "Iteration 107, loss = 1.65012349\n",
            "Iteration 108, loss = 1.65158630\n",
            "Iteration 109, loss = 1.65229965\n",
            "Iteration 110, loss = 1.65241110\n",
            "Iteration 111, loss = 1.64866451\n",
            "Iteration 112, loss = 1.65193324\n",
            "Iteration 113, loss = 1.65151204\n",
            "Iteration 114, loss = 1.65227076\n",
            "Iteration 115, loss = 1.65311454\n",
            "Iteration 116, loss = 1.64786501\n",
            "Iteration 117, loss = 1.64809914\n",
            "Iteration 118, loss = 1.65150778\n",
            "Iteration 119, loss = 1.65195849\n",
            "Iteration 120, loss = 1.65357439\n",
            "Iteration 121, loss = 1.65175697\n",
            "Iteration 122, loss = 1.65076846\n",
            "Iteration 123, loss = 1.65150600\n",
            "Iteration 124, loss = 1.65337115\n",
            "Iteration 125, loss = 1.65100398\n",
            "Iteration 126, loss = 1.65409469\n",
            "Iteration 127, loss = 1.65116237\n",
            "Training loss did not improve more than tol=0.000100 for 10 consecutive epochs. Stopping.\n"
          ]
        },
        {
          "output_type": "execute_result",
          "data": {
            "text/plain": [
              "MLPClassifier(hidden_layer_sizes=(5, 2), learning_rate_init=0.02,\n",
              "              random_state=1, verbose=True)"
            ]
          },
          "metadata": {},
          "execution_count": 118
        }
      ]
    }
  ]
}